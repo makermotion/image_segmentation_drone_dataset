{
 "cells": [
  {
   "cell_type": "code",
   "execution_count": 1,
   "metadata": {},
   "outputs": [],
   "source": [
    "import tensorflow as tf\n",
    "from tensorflow.keras.models import load_model\n",
    "from tensorflow.keras.layers import Input, Conv2D, Conv2DTranspose, MaxPool2D, AvgPool2D, Activation, Concatenate, BatchNormalization\n",
    "from tensorflow.keras.models import Model\n",
    "from tensorflow.keras.applications import EfficientNetB0, EfficientNetB4\n",
    "from tensorflow.keras.preprocessing.image import load_img\n",
    "from tensorflow.keras.metrics import Recall, Precision\n",
    "import tensorflow.keras.backend as K\n",
    "import tensorflow_addons as tfa\n",
    "import datetime\n",
    "import numpy as np\n",
    "import pandas as pd\n",
    "import PIL\n",
    "from PIL import ImageOps\n",
    "import os\n",
    "from pathlib import Path\n",
    "from IPython.display import Image, display"
   ]
  },
  {
   "cell_type": "code",
   "execution_count": 2,
   "metadata": {},
   "outputs": [],
   "source": [
    "#EfficientNetB4().summary()"
   ]
  },
  {
   "cell_type": "code",
   "execution_count": 3,
   "metadata": {},
   "outputs": [
    {
     "data": {
      "text/plain": [
       "'2.3.0'"
      ]
     },
     "execution_count": 3,
     "metadata": {},
     "output_type": "execute_result"
    }
   ],
   "source": [
    "tf.__version__"
   ]
  },
  {
   "cell_type": "code",
   "execution_count": 4,
   "metadata": {},
   "outputs": [],
   "source": [
    "df = pd.read_csv('~/Desktop/freelancer_drone/data/class_dict_seg.csv')\n",
    "num_classes = df.shape[0]"
   ]
  },
  {
   "cell_type": "code",
   "execution_count": 5,
   "metadata": {},
   "outputs": [],
   "source": [
    "IMG_SIZE = 512"
   ]
  },
  {
   "cell_type": "code",
   "execution_count": 6,
   "metadata": {},
   "outputs": [],
   "source": [
    "input_dir = 'data/dataset/semantic_drone_dataset/original_images'\n",
    "target_dir = 'data/dataset/semantic_drone_dataset/label_images_semantic'\n",
    "color_dir = 'data/RGB_color_image_masks/RGB_color_image_masks'"
   ]
  },
  {
   "cell_type": "code",
   "execution_count": 7,
   "metadata": {},
   "outputs": [],
   "source": [
    "input_img_paths = sorted([i for i in Path(input_dir).glob('**/*.jpg')])\n",
    "input_lbl_paths = sorted([i for i in Path(target_dir).glob('**/*.png')])\n",
    "color_paths = sorted([i for i in Path(color_dir).glob('**/*.png')])"
   ]
  },
  {
   "cell_type": "code",
   "execution_count": 8,
   "metadata": {},
   "outputs": [],
   "source": [
    "i_ = np.zeros((10,) + (255, 255) + (1, ), dtype='uint8')\n",
    "img = load_img('data/dataset/semantic_drone_dataset/label_images_semantic/491.png', target_size=(255,255), color_mode='grayscale')"
   ]
  },
  {
   "cell_type": "code",
   "execution_count": 9,
   "metadata": {},
   "outputs": [
    {
     "data": {
      "text/plain": [
       "array([ 1,  6,  8, 15, 22], dtype=uint8)"
      ]
     },
     "execution_count": 9,
     "metadata": {},
     "output_type": "execute_result"
    }
   ],
   "source": [
    "np.unique(np.expand_dims(img, 2))"
   ]
  },
  {
   "cell_type": "code",
   "execution_count": 10,
   "metadata": {},
   "outputs": [],
   "source": [
    "i_[0] = np.expand_dims(img, 2)"
   ]
  },
  {
   "cell_type": "code",
   "execution_count": 11,
   "metadata": {},
   "outputs": [
    {
     "data": {
      "text/plain": [
       "array([ 1,  6,  8, 15, 22], dtype=uint8)"
      ]
     },
     "execution_count": 11,
     "metadata": {},
     "output_type": "execute_result"
    }
   ],
   "source": [
    "np.unique(i_[0])"
   ]
  },
  {
   "cell_type": "code",
   "execution_count": 12,
   "metadata": {},
   "outputs": [],
   "source": [
    "class CDG(tf.keras.utils.Sequence):\n",
    "    def __init__(self, batch_size, img_size, input_image_path, target_image_path, num_classes):\n",
    "        self.batch_size = batch_size\n",
    "        self.img_size = img_size\n",
    "        self.input_image_path = input_image_path\n",
    "        self.target_image_path = target_image_path\n",
    "        self.num_classes = num_classes\n",
    "    \n",
    "    def __len__(self):\n",
    "        return len(self.target_image_path) // self.batch_size\n",
    "    \n",
    "    def __random_flip(self, x, y):\n",
    "        rand = np.random.randint(0, 21)\n",
    "        if rand % 3 == 0:\n",
    "            x = tf.image.flip_left_right(x)\n",
    "            y = tf.image.flip_left_right(y)\n",
    "\n",
    "        return x, y\n",
    "                    \n",
    "    def __random_cont(self, x):\n",
    "        x = tf.image.random_contrast(x, .1, .2)\n",
    "        #display(tf.keras.preprocessing.image.array_to_img(x[0]))\n",
    "        return x\n",
    "    \n",
    "    def __random_zoom(self, x, y):\n",
    "        ow, oh = np.random.randint(0, 100), np.random.randint(0, 100)\n",
    "        tw, th = np.random.randint(256, self.img_size[0]-ow), np.random.randint(256, self.img_size[0]-oh)\n",
    "        x = tf.image.crop_to_bounding_box(x, oh, ow, th, tw)\n",
    "        y = tf.image.crop_to_bounding_box(y, oh, ow, th, tw)\n",
    "        \n",
    "        x = tf.image.resize(x, [self.img_size[0], self.img_size[1]])\n",
    "        y = tf.image.resize(y, [self.img_size[0], self.img_size[1]])\n",
    "        \n",
    "        return x, y\n",
    "        \n",
    "    def __rotate(self, x, y):\n",
    "        deg = np.random.randint(0, 359)\n",
    "        x = tfa.image.rotate(x, deg)\n",
    "        y = tfa.image.rotate(y, deg)\n",
    "        return x, y\n",
    "        \n",
    "    def __getitem__(self, idx):\n",
    "        input_batch = self.input_image_path[idx*self.batch_size : idx*self.batch_size + self.batch_size]\n",
    "        target_batch = self.target_image_path[idx*self.batch_size : idx*self.batch_size + self.batch_size]\n",
    "        \n",
    "        x = np.zeros((self.batch_size,) + self.img_size + (3, ), dtype='float32')\n",
    "        for j, path in enumerate(input_batch):\n",
    "            img = load_img(path, target_size=self.img_size)\n",
    "            #img = np.asarray(img) / 255\n",
    "            img = np.asarray(img)\n",
    "            x[j] = img\n",
    "            \n",
    "        \n",
    "        y = np.zeros((self.batch_size,) + self.img_size + (1, ), dtype='uint8')\n",
    "        for j, path in enumerate(target_batch):\n",
    "            img = load_img(path, target_size=self.img_size, color_mode='grayscale')\n",
    "            #img = np.asarray(img) / self.num_classes\n",
    "            y[j] = np.expand_dims(img, 2)\n",
    "        \n",
    "        x, y = self.__random_zoom(x, y)\n",
    "        #x = self.__random_cont(x)\n",
    "        x, y  = self.__random_flip(x, y)\n",
    "        x, y = self.__rotate(x, y)\n",
    "        \n",
    "        return x, y"
   ]
  },
  {
   "cell_type": "code",
   "execution_count": 13,
   "metadata": {},
   "outputs": [],
   "source": [
    "def dice_coef(y_true, y_pred, smooth=1e-7):\n",
    "    '''\n",
    "    Dice coefficient for 24 categories. Ignores background pixel label 0\n",
    "    Pass to model as metric during compile statement\n",
    "    '''\n",
    "    y_true_f = K.flatten(K.one_hot(K.cast(y_true, 'int32'), num_classes=23)[...,1:])\n",
    "    y_pred_f = K.flatten(y_pred[...,1:])\n",
    "    intersect = K.sum(y_true_f * y_pred_f, axis=-1)\n",
    "    denom = K.sum(y_true_f + y_pred_f, axis=-1)\n",
    "    return K.mean((2. * intersect / (denom + smooth)))\n",
    "\n",
    "def dice_loss(y_true, y_pred):\n",
    "    '''\n",
    "    Dice loss to minimize. Pass to model as loss during compile statement\n",
    "    '''\n",
    "    return 1 - dice_coef(y_true, y_pred)\n"
   ]
  },
  {
   "cell_type": "code",
   "execution_count": 14,
   "metadata": {},
   "outputs": [],
   "source": [
    "def conv_block(inputs, num_filters):\n",
    "    x = Conv2D(num_filters, 3, padding='same')(inputs)\n",
    "    x = BatchNormalization()(x)\n",
    "    x = Activation('relu')(x)\n",
    "    \n",
    "    x = Conv2D(num_filters, 3, padding='same')(x)\n",
    "    x = BatchNormalization()(x)\n",
    "    x = Activation('relu')(x)\n",
    "    \n",
    "    return x"
   ]
  },
  {
   "cell_type": "code",
   "execution_count": 15,
   "metadata": {},
   "outputs": [],
   "source": [
    "def decoder(inputs, skip, num_filters):\n",
    "    x = Conv2DTranspose(num_filters,(2, 2), strides=2, padding=\"same\")(inputs)\n",
    "    x = Concatenate()([x, skip])\n",
    "    x = conv_block(x, num_filters)\n",
    "    \n",
    "    return x"
   ]
  },
  {
   "cell_type": "code",
   "execution_count": 16,
   "metadata": {},
   "outputs": [],
   "source": [
    "def eff_unet(input_shape, num_classes):\n",
    "    inputs = Input(shape=input_shape)\n",
    "    \n",
    "    enc = EfficientNetB4(include_top=False, weights=\"imagenet\", input_tensor=inputs)\n",
    "    s1 = enc.get_layer(\"input_1\").output     \n",
    "    s2 = enc.get_layer(\"block2a_expand_activation\").output    \n",
    "    s3 = enc.get_layer(\"block3a_expand_activation\").output    \n",
    "    s4 = enc.get_layer(\"block4a_expand_activation\").output \n",
    "    \n",
    "    bn = enc.get_layer(\"block6a_expand_activation\").output\n",
    "\n",
    "    \n",
    "    db1 = decoder(bn, s4, 512)\n",
    "    db2 = decoder(db1, s3, 256)\n",
    "    db3 = decoder(db2, s2, 128)\n",
    "    db4 = decoder(db3, s1, 64)\n",
    "    \n",
    "    \n",
    "    outputs = Conv2D(num_classes, 3, padding='same', activation='softmax')(db4)\n",
    "    \n",
    "    model = Model(inputs, outputs)\n",
    "    return model\n"
   ]
  },
  {
   "cell_type": "code",
   "execution_count": 17,
   "metadata": {},
   "outputs": [],
   "source": [
    "x_train, y_train, c_train = input_img_paths[:int(.9*len(input_img_paths))], input_lbl_paths[:int(.9*len(input_img_paths))], color_paths[:int(.9*len(input_img_paths))]\n",
    "x_val, y_val, c_val = input_img_paths[int(.9*len(input_img_paths)):], input_lbl_paths[int(.9*len(input_img_paths)):], color_paths[int(.9*len(input_img_paths)):] "
   ]
  },
  {
   "cell_type": "code",
   "execution_count": 18,
   "metadata": {},
   "outputs": [
    {
     "data": {
      "text/plain": [
       "[PosixPath('data/dataset/semantic_drone_dataset/original_images/000.jpg'),\n",
       " PosixPath('data/dataset/semantic_drone_dataset/original_images/001.jpg'),\n",
       " PosixPath('data/dataset/semantic_drone_dataset/original_images/002.jpg')]"
      ]
     },
     "execution_count": 18,
     "metadata": {},
     "output_type": "execute_result"
    }
   ],
   "source": [
    "x_train[:3]"
   ]
  },
  {
   "cell_type": "code",
   "execution_count": 19,
   "metadata": {},
   "outputs": [
    {
     "data": {
      "text/plain": [
       "[PosixPath('data/dataset/semantic_drone_dataset/label_images_semantic/000.png'),\n",
       " PosixPath('data/dataset/semantic_drone_dataset/label_images_semantic/001.png'),\n",
       " PosixPath('data/dataset/semantic_drone_dataset/label_images_semantic/002.png')]"
      ]
     },
     "execution_count": 19,
     "metadata": {},
     "output_type": "execute_result"
    }
   ],
   "source": [
    "y_train[:3]"
   ]
  },
  {
   "cell_type": "code",
   "execution_count": 20,
   "metadata": {},
   "outputs": [],
   "source": [
    "train_gen = CDG(3, (IMG_SIZE, IMG_SIZE), x_train, y_train, num_classes)\n",
    "val_gen = CDG(3, (IMG_SIZE, IMG_SIZE), x_val, y_val, num_classes)"
   ]
  },
  {
   "cell_type": "code",
   "execution_count": 21,
   "metadata": {},
   "outputs": [],
   "source": [
    "boxes = tf.random.uniform(shape=(5, 4))\n",
    "box_indices = tf.random.uniform(shape=(5,), minval=0,\n",
    "maxval=1, dtype=tf.int32)"
   ]
  },
  {
   "cell_type": "code",
   "execution_count": 22,
   "metadata": {},
   "outputs": [
    {
     "name": "stderr",
     "output_type": "stream",
     "text": [
      "/home/scutum/envs/data-science/lib/python3.8/site-packages/tensorflow_addons/image/transform_ops.py:142: UserWarning: fill_value is not supported and is always 0 for TensorFlow < 2.4.0.\n",
      "  warnings.warn(\n"
     ]
    },
    {
     "data": {
      "text/plain": [
       "array([ 0.        ,  0.09547997,  0.10872078, ..., 21.999239  ,\n",
       "       21.999266  , 22.        ], dtype=float32)"
      ]
     },
     "execution_count": 22,
     "metadata": {},
     "output_type": "execute_result"
    }
   ],
   "source": [
    "np.unique(train_gen[0][1])"
   ]
  },
  {
   "cell_type": "code",
   "execution_count": 23,
   "metadata": {},
   "outputs": [],
   "source": [
    "model_name = 'models/drone_segmentation_512_woscaling_10ep_effnetb4.h5'"
   ]
  },
  {
   "cell_type": "code",
   "execution_count": 24,
   "metadata": {},
   "outputs": [],
   "source": [
    "input_shape = (IMG_SIZE, IMG_SIZE, 3)\n",
    "model = eff_unet(input_shape, num_classes)\n",
    "#opt = tf.keras.optimizers.Nadam(1e-3)\n",
    "save_best = tf.keras.callbacks.ModelCheckpoint(model_name, monitor=\"val_loss\", verbose=0, save_best_only=True)\n",
    "#model.compile(optimizer=opt, loss='sparse_categorical_crossentropy')\n",
    "model.compile(optimizer='adam', loss='sparse_categorical_crossentropy', metrics=['sparse_categorical_accuracy'])\n",
    "log_dir = \"logs/fit/\" + datetime.datetime.now().strftime(\"%Y%m%d-%H%M%S\")\n",
    "tensorboard_callback = tf.keras.callbacks.TensorBoard(log_dir=log_dir, histogram_freq=1)"
   ]
  },
  {
   "cell_type": "code",
   "execution_count": null,
   "metadata": {},
   "outputs": [
    {
     "name": "stdout",
     "output_type": "stream",
     "text": [
      "Epoch 1/10\n",
      "  1/120 [..............................] - ETA: 0s - loss: 3.8014 - sparse_categorical_accuracy: 0.0194WARNING:tensorflow:From /home/scutum/envs/data-science/lib/python3.8/site-packages/tensorflow/python/ops/summary_ops_v2.py:1277: stop (from tensorflow.python.eager.profiler) is deprecated and will be removed after 2020-07-01.\n",
      "Instructions for updating:\n",
      "use `tf.profiler.experimental.stop` instead.\n",
      "120/120 [==============================] - 149s 1s/step - loss: 1.3183 - sparse_categorical_accuracy: 0.6261 - val_loss: 6.8990 - val_sparse_categorical_accuracy: 0.3044\n",
      "Epoch 2/10\n",
      "120/120 [==============================] - 146s 1s/step - loss: 0.9877 - sparse_categorical_accuracy: 0.6942 - val_loss: 0.9569 - val_sparse_categorical_accuracy: 0.7398\n",
      "Epoch 3/10\n",
      "116/120 [============================>.] - ETA: 4s - loss: 0.9223 - sparse_categorical_accuracy: 0.7204"
     ]
    }
   ],
   "source": [
    "hist = model.fit(train_gen, epochs=10, validation_data=val_gen, callbacks=[tensorboard_callback, save_best])"
   ]
  },
  {
   "cell_type": "code",
   "execution_count": null,
   "metadata": {},
   "outputs": [],
   "source": [
    "model = load_model(model_name)"
   ]
  },
  {
   "cell_type": "code",
   "execution_count": null,
   "metadata": {},
   "outputs": [],
   "source": [
    "preds = model.predict(val_gen)"
   ]
  },
  {
   "cell_type": "code",
   "execution_count": null,
   "metadata": {},
   "outputs": [],
   "source": [
    "preds.shape"
   ]
  },
  {
   "cell_type": "code",
   "execution_count": null,
   "metadata": {},
   "outputs": [],
   "source": [
    "def display_mask(i):\n",
    "    \"\"\"Quick utility to display a model's prediction.\"\"\"\n",
    "    mask = np.argmax(preds[i], axis=-1)\n",
    "    print(np.unique(mask))\n",
    "    #mask = np.expand_dims(mask, axis=-1)\n",
    "    #print(mask.shape)\n",
    "    \n",
    "    seg_img = np.zeros((IMG_SIZE, IMG_SIZE, 3))\n",
    "    seg_img_gs = np.zeros((IMG_SIZE, IMG_SIZE, 3))\n",
    "    \n",
    "    for c in range(num_classes): \n",
    "        c_codes = [df[' r'][c],  df[' g'][c], df[' b'][c]]\n",
    "        for i in range(3):\n",
    "            seg_arr_c = mask[:, :] == c\n",
    "            seg_img[:, :, i] += ((seg_arr_c)*(c_codes[i])).astype('uint8')\n",
    "            \n",
    "    for c in range(num_classes): \n",
    "        for i in range(3):\n",
    "            seg_arr_c_gs = mask[:, :] == c\n",
    "            seg_img_gs[:, :, i] += ((seg_arr_c_gs)*(c)).astype('uint8')\n",
    "    \n",
    "            \n",
    "    #img = PIL.ImageOps.autocontrast(tf.keras.preprocessing.image.array_to_img(mask))\n",
    "    img = tf.keras.preprocessing.image.array_to_img(seg_img)\n",
    "    display(img)\n",
    "    return seg_img_gs\n",
    "\n",
    "# Display results for validation image #10\n",
    "i = 0\n",
    "\n",
    "# Display input image\n",
    "display(Image(filename=x_val[i], width=IMG_SIZE, height=IMG_SIZE))\n",
    "\n",
    "# Display ground-truth target mask\n",
    "img = PIL.ImageOps.autocontrast(load_img(y_val[i], target_size=(IMG_SIZE, IMG_SIZE)))\n",
    "display(img)\n",
    "\n",
    "# Display color mask\n",
    "display(Image(filename=c_val[i], width=IMG_SIZE, height=IMG_SIZE))\n",
    "\n",
    "# Display mask predicted by our model\n",
    "seg_img_gs = display_mask(i)  # Note that the model only sees inputs at 150x150."
   ]
  },
  {
   "cell_type": "code",
   "execution_count": null,
   "metadata": {},
   "outputs": [],
   "source": [
    "mean_iou(preds[0], np.asarray(val_gen[0][1][2]))"
   ]
  },
  {
   "cell_type": "code",
   "execution_count": null,
   "metadata": {},
   "outputs": [],
   "source": [
    "import joblib"
   ]
  },
  {
   "cell_type": "code",
   "execution_count": null,
   "metadata": {},
   "outputs": [],
   "source": [
    "joblib.dump(model, 'models/model_joblib.pkl')"
   ]
  },
  {
   "cell_type": "code",
   "execution_count": null,
   "metadata": {},
   "outputs": [],
   "source": []
  }
 ],
 "metadata": {
  "kernelspec": {
   "display_name": "Python 3",
   "language": "python",
   "name": "python3"
  },
  "language_info": {
   "codemirror_mode": {
    "name": "ipython",
    "version": 3
   },
   "file_extension": ".py",
   "mimetype": "text/x-python",
   "name": "python",
   "nbconvert_exporter": "python",
   "pygments_lexer": "ipython3",
   "version": "3.8.10"
  }
 },
 "nbformat": 4,
 "nbformat_minor": 4
}
